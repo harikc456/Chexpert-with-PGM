{
 "cells": [
  {
   "cell_type": "code",
   "execution_count": 1,
   "metadata": {},
   "outputs": [],
   "source": [
    "import pandas as pd\n",
    "import matplotlib.pyplot as plt\n",
    "import torch\n",
    "import time\n",
    "import torch.nn as nn\n",
    "from sklearn.mixture import GaussianMixture\n",
    "import skimage.measure\n",
    "import cv2\n",
    "import numpy as np\n",
    "from sklearn.metrics import confusion_matrix, accuracy_score,f1_score\n",
    "import concurrent.futures\n",
    "from concurrent.futures import ProcessPoolExecutor\n",
    "from sklearn.model_selection import train_test_split\n",
    "from pgmpy.models import BayesianModel\n",
    "from pgmpy.estimators import HillClimbSearch, BicScore, K2Score\n",
    "from pgmpy.factors.discrete import TabularCPD\n",
    "from collections import Counter\n",
    "import pickle\n",
    "import logging"
   ]
  },
  {
   "cell_type": "markdown",
   "metadata": {},
   "source": [
    "## Validation "
   ]
  },
  {
   "cell_type": "code",
   "execution_count": 2,
   "metadata": {},
   "outputs": [],
   "source": [
    "logging.basicConfig(filename='validation.log',level=logging.DEBUG)"
   ]
  },
  {
   "cell_type": "code",
   "execution_count": 3,
   "metadata": {},
   "outputs": [],
   "source": [
    "columns = ['No Finding','Enlarged Cardiomediastinum', 'Cardiomegaly', 'Lung Opacity',\n",
    "       'Lung Lesion', 'Edema', 'Consolidation', 'Pneumonia', 'Atelectasis',\n",
    "       'Pneumothorax', 'Pleural Effusion', 'Pleural Other', 'Fracture','Support Devices']"
   ]
  },
  {
   "cell_type": "code",
   "execution_count": 8,
   "metadata": {},
   "outputs": [
    {
     "name": "stderr",
     "output_type": "stream",
     "text": [
      "100%|████████████████████████████████████████| 202/202 [02:13<00:00,  1.51it/s]\n",
      "100%|████████████████████████████████████████| 202/202 [00:47<00:00,  4.22it/s]\n",
      "100%|████████████████████████████████████████| 202/202 [02:30<00:00,  1.34it/s]\n",
      "100%|████████████████████████████████████████| 202/202 [06:38<00:00,  1.97s/it]\n",
      "100%|████████████████████████████████████████| 202/202 [01:14<00:00,  2.73it/s]\n",
      "100%|████████████████████████████████████████| 202/202 [03:49<00:00,  1.14s/it]\n",
      "100%|████████████████████████████████████████| 202/202 [00:52<00:00,  3.84it/s]\n",
      "100%|████████████████████████████████████████| 202/202 [00:49<00:00,  4.04it/s]\n",
      "100%|████████████████████████████████████████| 202/202 [02:53<00:00,  1.16it/s]\n",
      "100%|████████████████████████████████████████| 202/202 [01:12<00:00,  2.77it/s]\n",
      "100%|████████████████████████████████████████| 202/202 [05:45<00:00,  1.71s/it]\n",
      "100%|████████████████████████████████████████| 202/202 [00:46<00:00,  4.31it/s]\n",
      "100%|████████████████████████████████████████| 202/202 [01:06<00:00,  3.03it/s]\n",
      "100%|████████████████████████████████████████| 202/202 [06:54<00:00,  2.05s/it]\n"
     ]
    }
   ],
   "source": [
    "for column in columns:\n",
    "    logging.info(column)\n",
    "    val = pd.read_csv('../valid_'+column+'.csv')\n",
    "    filename = \"_\".join([w for w in column.split(\" \")])\n",
    "    with open('hpf_bayes_est_'+filename.lower()+'_model.pkl','rb') as f:\n",
    "        model = pickle.load(f)\n",
    "    feature_cols = val.columns[val.columns!=column]\n",
    "    m = val.copy()\n",
    "    pred = model.predict(val[feature_cols])\n",
    "    logging.info(\"Accuracy\"+str(accuracy_score(val[column],pred)))\n",
    "    logging.info(\"\\n\\n\")"
   ]
  },
  {
   "cell_type": "code",
   "execution_count": null,
   "metadata": {},
   "outputs": [],
   "source": [
    "for column in columns:\n",
    "    val = pd.read_csv('valid_'+column+'.csv')\n",
    "    print(column, set(val['Age']))"
   ]
  },
  {
   "cell_type": "code",
   "execution_count": null,
   "metadata": {},
   "outputs": [],
   "source": []
  },
  {
   "cell_type": "code",
   "execution_count": null,
   "metadata": {},
   "outputs": [],
   "source": []
  }
 ],
 "metadata": {
  "kernelspec": {
   "display_name": "deep",
   "language": "python",
   "name": "deep"
  },
  "language_info": {
   "codemirror_mode": {
    "name": "ipython",
    "version": 3
   },
   "file_extension": ".py",
   "mimetype": "text/x-python",
   "name": "python",
   "nbconvert_exporter": "python",
   "pygments_lexer": "ipython3",
   "version": "3.6.10"
  }
 },
 "nbformat": 4,
 "nbformat_minor": 4
}
