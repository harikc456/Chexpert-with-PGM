{
 "cells": [
  {
   "cell_type": "code",
   "execution_count": 1,
   "metadata": {},
   "outputs": [],
   "source": [
    "import pandas as pd\n",
    "import matplotlib.pyplot as plt\n",
    "import torch\n",
    "import time\n",
    "import torch.nn as nn\n",
    "from sklearn.mixture import GaussianMixture\n",
    "import numpy as np\n",
    "from sklearn.metrics import confusion_matrix, accuracy_score,f1_score\n",
    "import concurrent.futures\n",
    "from sklearn.model_selection import train_test_split\n",
    "from pgmpy.models import BayesianModel\n",
    "from pgmpy.estimators import HillClimbSearch, BicScore, K2Score\n",
    "from pgmpy.factors.discrete import TabularCPD\n",
    "from collections import Counter\n",
    "import pickle\n",
    "import logging"
   ]
  },
  {
   "cell_type": "markdown",
   "metadata": {},
   "source": [
    "## Validation "
   ]
  },
  {
   "cell_type": "code",
   "execution_count": 2,
   "metadata": {},
   "outputs": [],
   "source": [
    "logging.basicConfig(filename='validation.log',level=logging.DEBUG)"
   ]
  },
  {
   "cell_type": "code",
   "execution_count": 3,
   "metadata": {},
   "outputs": [],
   "source": [
    "columns = ['Pneumonia','Pleural Other','No Finding','Enlarged Cardiomediastinum', 'Cardiomegaly', 'Lung Opacity',\n",
    "       'Lung Lesion', 'Edema', 'Consolidation', 'Atelectasis',\n",
    "       'Pneumothorax', 'Pleural Effusion', 'Fracture','Support Devices']\n",
    "\n",
    "string_cols = ['Sex','Age']"
   ]
  },
  {
   "cell_type": "code",
   "execution_count": 6,
   "metadata": {},
   "outputs": [
    {
     "name": "stderr",
     "output_type": "stream",
     "text": [
      "100%|████████████████████████████████████████| 202/202 [01:59<00:00,  1.68it/s]\n",
      "100%|████████████████████████████████████████| 202/202 [01:22<00:00,  2.45it/s]\n",
      "100%|████████████████████████████████████████| 202/202 [03:31<00:00,  1.05s/it]\n",
      "100%|████████████████████████████████████████| 202/202 [02:56<00:00,  1.14it/s]\n",
      "100%|████████████████████████████████████████| 202/202 [04:53<00:00,  1.45s/it]\n",
      "100%|████████████████████████████████████████| 202/202 [12:54<00:00,  3.84s/it]\n",
      "100%|████████████████████████████████████████| 202/202 [02:19<00:00,  1.44it/s]\n",
      "100%|████████████████████████████████████████| 202/202 [07:51<00:00,  2.33s/it]\n",
      "100%|████████████████████████████████████████| 202/202 [03:35<00:00,  1.07s/it]\n",
      "100%|████████████████████████████████████████| 202/202 [05:32<00:00,  1.65s/it]\n",
      "100%|████████████████████████████████████████| 202/202 [04:19<00:00,  1.28s/it]\n",
      "100%|████████████████████████████████████████| 202/202 [12:21<00:00,  3.67s/it]\n",
      "100%|████████████████████████████████████████| 202/202 [02:20<00:00,  1.43it/s]\n",
      "100%|████████████████████████████████████████| 202/202 [13:41<00:00,  4.06s/it]\n"
     ]
    }
   ],
   "source": [
    "for column in columns:\n",
    "    logging.info(column)\n",
    "    val = pd.read_csv('../valid_'+column+'.csv')\n",
    "    filename = \"_\".join([w for w in column.split(\" \")])\n",
    "    with open('lpf_bayes_'+filename.lower()+'model.pkl','rb') as f:\n",
    "        model = pickle.load(f)\n",
    "    feature_cols = val.columns[val.columns!=column]\n",
    "    pred = model.predict(val[feature_cols])\n",
    "    logging.info(\"Accuracy\"+str(accuracy_score(val[column],pred)))\n",
    "    logging.info(\"\\n\\n\")"
   ]
  },
  {
   "cell_type": "code",
   "execution_count": null,
   "metadata": {},
   "outputs": [],
   "source": []
  },
  {
   "cell_type": "code",
   "execution_count": null,
   "metadata": {},
   "outputs": [],
   "source": []
  },
  {
   "cell_type": "code",
   "execution_count": null,
   "metadata": {},
   "outputs": [],
   "source": []
  },
  {
   "cell_type": "code",
   "execution_count": null,
   "metadata": {},
   "outputs": [],
   "source": []
  }
 ],
 "metadata": {
  "kernelspec": {
   "display_name": "deep",
   "language": "python",
   "name": "deep"
  },
  "language_info": {
   "codemirror_mode": {
    "name": "ipython",
    "version": 3
   },
   "file_extension": ".py",
   "mimetype": "text/x-python",
   "name": "python",
   "nbconvert_exporter": "python",
   "pygments_lexer": "ipython3",
   "version": "3.6.10"
  }
 },
 "nbformat": 4,
 "nbformat_minor": 4
}
