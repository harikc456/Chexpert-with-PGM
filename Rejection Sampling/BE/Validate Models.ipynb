{
 "cells": [
  {
   "cell_type": "code",
   "execution_count": 1,
   "metadata": {},
   "outputs": [],
   "source": [
    "import pandas as pd\n",
    "import matplotlib.pyplot as plt\n",
    "import torch\n",
    "import time\n",
    "import torch.nn as nn\n",
    "from sklearn.mixture import GaussianMixture\n",
    "import skimage.measure\n",
    "import cv2\n",
    "import numpy as np\n",
    "from sklearn.metrics import confusion_matrix, accuracy_score,f1_score\n",
    "import concurrent.futures\n",
    "from concurrent.futures import ProcessPoolExecutor\n",
    "from sklearn.model_selection import train_test_split\n",
    "from pgmpy.models import BayesianModel\n",
    "from pgmpy.estimators import HillClimbSearch, BicScore, K2Score\n",
    "from pgmpy.factors.discrete import TabularCPD\n",
    "from collections import Counter\n",
    "import pickle\n",
    "import logging"
   ]
  },
  {
   "cell_type": "markdown",
   "metadata": {},
   "source": [
    "## Validation "
   ]
  },
  {
   "cell_type": "code",
   "execution_count": 2,
   "metadata": {},
   "outputs": [],
   "source": [
    "logging.basicConfig(filename='validation.log',level=logging.DEBUG)"
   ]
  },
  {
   "cell_type": "code",
   "execution_count": 3,
   "metadata": {},
   "outputs": [],
   "source": [
    "columns = ['No Finding','Enlarged Cardiomediastinum', 'Cardiomegaly', 'Lung Opacity',\n",
    "       'Lung Lesion', 'Edema', 'Consolidation', 'Pneumonia', 'Atelectasis',\n",
    "       'Pneumothorax', 'Pleural Effusion', 'Pleural Other', 'Fracture','Support Devices']"
   ]
  },
  {
   "cell_type": "code",
   "execution_count": 6,
   "metadata": {},
   "outputs": [
    {
     "name": "stderr",
     "output_type": "stream",
     "text": [
      "100%|████████████████████████████████████████| 202/202 [02:27<00:00,  1.37it/s]\n",
      "100%|████████████████████████████████████████| 202/202 [00:47<00:00,  4.28it/s]\n",
      "100%|████████████████████████████████████████| 202/202 [02:27<00:00,  1.37it/s]\n",
      "100%|████████████████████████████████████████| 202/202 [02:32<00:00,  1.32it/s]\n",
      "100%|████████████████████████████████████████| 202/202 [01:23<00:00,  2.43it/s]\n",
      "100%|████████████████████████████████████████| 202/202 [02:44<00:00,  1.22it/s]\n",
      "100%|████████████████████████████████████████| 202/202 [01:25<00:00,  2.37it/s]\n",
      "100%|████████████████████████████████████████| 202/202 [01:11<00:00,  2.84it/s]\n",
      "100%|████████████████████████████████████████| 202/202 [02:43<00:00,  1.24it/s]\n",
      "100%|████████████████████████████████████████| 202/202 [01:27<00:00,  2.31it/s]\n",
      "100%|████████████████████████████████████████| 202/202 [02:50<00:00,  1.18it/s]\n",
      "100%|████████████████████████████████████████| 202/202 [01:07<00:00,  3.01it/s]\n",
      "100%|████████████████████████████████████████| 202/202 [01:11<00:00,  2.82it/s]\n",
      "100%|████████████████████████████████████████| 202/202 [03:33<00:00,  1.06s/it]\n"
     ]
    }
   ],
   "source": [
    "for column in columns:\n",
    "    logging.info(column)\n",
    "    val = pd.read_csv('../valid_'+column+'.csv')\n",
    "    filename = \"_\".join([w for w in column.split(\" \")])\n",
    "    with open('rejection_hpf_bayes_est_'+filename.lower()+'_model.pkl','rb') as f:\n",
    "        model = pickle.load(f)\n",
    "    feature_cols = val.columns[val.columns!=column]\n",
    "    m = val.copy()\n",
    "    pred = model.predict(val[feature_cols])\n",
    "    logging.info(\"Accuracy\"+str(accuracy_score(val[column],pred)))\n",
    "    logging.info(\"\\n\\n\")"
   ]
  },
  {
   "cell_type": "code",
   "execution_count": null,
   "metadata": {},
   "outputs": [],
   "source": []
  },
  {
   "cell_type": "code",
   "execution_count": null,
   "metadata": {},
   "outputs": [],
   "source": []
  },
  {
   "cell_type": "code",
   "execution_count": null,
   "metadata": {},
   "outputs": [],
   "source": []
  }
 ],
 "metadata": {
  "kernelspec": {
   "display_name": "deep",
   "language": "python",
   "name": "deep"
  },
  "language_info": {
   "codemirror_mode": {
    "name": "ipython",
    "version": 3
   },
   "file_extension": ".py",
   "mimetype": "text/x-python",
   "name": "python",
   "nbconvert_exporter": "python",
   "pygments_lexer": "ipython3",
   "version": "3.6.10"
  }
 },
 "nbformat": 4,
 "nbformat_minor": 4
}
