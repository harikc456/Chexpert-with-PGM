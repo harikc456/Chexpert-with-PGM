{
 "cells": [
  {
   "cell_type": "code",
   "execution_count": 1,
   "metadata": {},
   "outputs": [],
   "source": [
    "import pandas as pd\n",
    "import matplotlib.pyplot as plt\n",
    "import torch\n",
    "import time\n",
    "import torch.nn as nn\n",
    "from sklearn.mixture import GaussianMixture\n",
    "import numpy as np\n",
    "from sklearn.metrics import confusion_matrix, accuracy_score,f1_score\n",
    "import concurrent.futures\n",
    "from sklearn.model_selection import train_test_split\n",
    "from pgmpy.models import BayesianModel\n",
    "from pgmpy.estimators import HillClimbSearch, BicScore, K2Score\n",
    "from pgmpy.factors.discrete import TabularCPD\n",
    "from collections import Counter\n",
    "import pickle\n",
    "import logging"
   ]
  },
  {
   "cell_type": "markdown",
   "metadata": {},
   "source": [
    "## Validation "
   ]
  },
  {
   "cell_type": "code",
   "execution_count": 2,
   "metadata": {},
   "outputs": [],
   "source": [
    "logging.basicConfig(filename='validation.log',level=logging.DEBUG)"
   ]
  },
  {
   "cell_type": "code",
   "execution_count": 3,
   "metadata": {},
   "outputs": [],
   "source": [
    "columns = ['Pneumonia','Pleural Other','No Finding','Enlarged Cardiomediastinum', 'Cardiomegaly', 'Lung Opacity',\n",
    "       'Lung Lesion', 'Edema', 'Consolidation', 'Atelectasis',\n",
    "       'Pneumothorax', 'Pleural Effusion', 'Fracture','Support Devices']\n",
    "\n",
    "string_cols = ['Sex','Age']"
   ]
  },
  {
   "cell_type": "code",
   "execution_count": 6,
   "metadata": {},
   "outputs": [
    {
     "name": "stderr",
     "output_type": "stream",
     "text": [
      "100%|████████████████████████████████████████| 202/202 [01:49<00:00,  1.84it/s]\n",
      "100%|████████████████████████████████████████| 202/202 [01:45<00:00,  1.92it/s]\n",
      "100%|████████████████████████████████████████| 202/202 [03:44<00:00,  1.11s/it]\n",
      "100%|████████████████████████████████████████| 202/202 [01:08<00:00,  2.95it/s]\n",
      "100%|████████████████████████████████████████| 202/202 [03:24<00:00,  1.01s/it]\n",
      "100%|████████████████████████████████████████| 202/202 [03:37<00:00,  1.07s/it]\n",
      "100%|████████████████████████████████████████| 202/202 [01:46<00:00,  1.89it/s]\n",
      "100%|████████████████████████████████████████| 202/202 [03:56<00:00,  1.17s/it]\n",
      "100%|████████████████████████████████████████| 202/202 [01:27<00:00,  2.32it/s]\n",
      "100%|████████████████████████████████████████| 202/202 [03:27<00:00,  1.03s/it]\n",
      "100%|████████████████████████████████████████| 202/202 [01:45<00:00,  1.91it/s]\n",
      "100%|████████████████████████████████████████| 202/202 [03:44<00:00,  1.11s/it]\n",
      "100%|████████████████████████████████████████| 202/202 [01:34<00:00,  2.13it/s]\n",
      "100%|████████████████████████████████████████| 202/202 [04:07<00:00,  1.22s/it]\n"
     ]
    }
   ],
   "source": [
    "for column in columns:\n",
    "    logging.info(column)\n",
    "    val = pd.read_csv('valid_'+column+'.csv')\n",
    "    filename = \"_\".join([w for w in column.split(\" \")])\n",
    "    with open('rejection_bayes_'+filename.lower()+'_model.pkl','rb') as f:\n",
    "        model = pickle.load(f)\n",
    "    feature_cols = val.columns[val.columns!=column]\n",
    "    pred = model.predict(val[feature_cols])\n",
    "    logging.info(\"Accuracy\"+str(accuracy_score(val[column],pred)))\n",
    "    logging.info(\"\\n\\n\")"
   ]
  },
  {
   "cell_type": "code",
   "execution_count": null,
   "metadata": {},
   "outputs": [],
   "source": []
  },
  {
   "cell_type": "code",
   "execution_count": null,
   "metadata": {},
   "outputs": [],
   "source": []
  },
  {
   "cell_type": "code",
   "execution_count": null,
   "metadata": {},
   "outputs": [],
   "source": []
  },
  {
   "cell_type": "code",
   "execution_count": null,
   "metadata": {},
   "outputs": [],
   "source": []
  }
 ],
 "metadata": {
  "kernelspec": {
   "display_name": "deep",
   "language": "python",
   "name": "deep"
  },
  "language_info": {
   "codemirror_mode": {
    "name": "ipython",
    "version": 3
   },
   "file_extension": ".py",
   "mimetype": "text/x-python",
   "name": "python",
   "nbconvert_exporter": "python",
   "pygments_lexer": "ipython3",
   "version": "3.6.10"
  }
 },
 "nbformat": 4,
 "nbformat_minor": 4
}
