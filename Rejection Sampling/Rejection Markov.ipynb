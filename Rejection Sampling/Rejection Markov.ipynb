{
 "cells": [
  {
   "cell_type": "code",
   "execution_count": 1,
   "metadata": {},
   "outputs": [],
   "source": [
    "import numpy as np\n",
    "import pandas as pd\n",
    "import logging\n",
    "import pickle\n",
    "from pgmpy.sampling import GibbsSampling\n",
    "from pgmpy.models import MarkovModel, BayesianModel\n",
    "from pgmpy.sampling import BayesianModelSampling\n",
    "from pgmpy.factors.discrete import State\n",
    "from sklearn.model_selection import train_test_split\n",
    "from sklearn.metrics import accuracy_score\n",
    "import networkx as nx\n",
    "from networkx.drawing.nx_pylab import draw_networkx\n",
    "from networkx.algorithms.cycles import find_cycle\n",
    "from pgmpy.estimators import BdeuScore, K2Score, BicScore\n",
    "from pomegranate import *\n",
    "logging.basicConfig(filename='train_test.log',level=logging.DEBUG)"
   ]
  },
  {
   "cell_type": "code",
   "execution_count": 2,
   "metadata": {},
   "outputs": [],
   "source": [
    "def get_accuracy(model,X_test,y_test):\n",
    "    pred = model.predict(X_test,n_jobs = 16)\n",
    "    return accuracy_score(y_test,pred)\n",
    "    \n",
    "def check_dag(edge_list):\n",
    "    G = nx.DiGraph(edge_list)\n",
    "    try:\n",
    "        cycle = find_cycle(G, orientation='original')\n",
    "    except:\n",
    "        return False\n",
    "    return cycle\n",
    "\n",
    "def generate_edges(child,parents):\n",
    "    edge_list = []\n",
    "    for parent in parents:\n",
    "        edge_list.append([parent,child])\n",
    "    return edge_list"
   ]
  },
  {
   "cell_type": "code",
   "execution_count": 3,
   "metadata": {},
   "outputs": [],
   "source": [
    "def get_cycle_edge(cycle,score,list_of_edges):\n",
    "    cycle_edge_scores = []\n",
    "    for parent,child,direction in cycle:\n",
    "        cycle_edge_scores.append(score.local_score(child,[parent]))\n",
    "    min_index = cycle_edge_scores.index(min(cycle_edge_scores))\n",
    "    low_score_edge = cycle[min_index][:-1]\n",
    "    return low_score_edge\n",
    "\n",
    "def get_model_architecture(df):\n",
    "    score = K2Score(df)\n",
    "    list_of_edges = []\n",
    "    for i in df.columns:\n",
    "        edge_scores = []\n",
    "        for j in df.columns:\n",
    "            if i!=j:\n",
    "                sco =score.local_score(i,[j])\n",
    "                edge_scores.append((i,j,sco))\n",
    "        edge_scores.sort(key = lambda x:x[2],reverse = True)\n",
    "        parents = [edge_scores[0][1]]\n",
    "        best_score = edge_scores[0][2]\n",
    "        for v in range(1,10):\n",
    "            parents.append(edge_scores[v][1])\n",
    "            new_score = score.local_score(i,parents)\n",
    "            if new_score > best_score:\n",
    "                best_score = new_score\n",
    "            else:\n",
    "                parents = parents[:-1]\n",
    "                break\n",
    "        list_of_edges += generate_edges(i,parents)\n",
    "        cycle = check_dag(list_of_edges)\n",
    "        while cycle:\n",
    "            low_score_edge = get_cycle_edge(cycle,score,list_of_edges)\n",
    "            list_of_edges.remove(list(low_score_edge))\n",
    "            cycle = check_dag(list_of_edges)\n",
    "    return list_of_edges"
   ]
  },
  {
   "cell_type": "code",
   "execution_count": 4,
   "metadata": {},
   "outputs": [],
   "source": [
    "columns = ['Pneumothorax','Consolidation','Fracture','Lung Lesion','Enlarged Cardiomediastinum',\n",
    "            'Pneumonia','Pleural Other','No Finding','Cardiomegaly','Lung Opacity',\n",
    "            'Edema','Pleural Effusion','Atelectasis','Support Devices']\n",
    "\n",
    "string_cols = ['Sex', 'Age', 'labels']"
   ]
  },
  {
   "cell_type": "code",
   "execution_count": 5,
   "metadata": {},
   "outputs": [
    {
     "name": "stdout",
     "output_type": "stream",
     "text": [
      "Pneumothorax\n"
     ]
    },
    {
     "ename": "IndexError",
     "evalue": "only integers, slices (`:`), ellipsis (`...`), numpy.newaxis (`None`) and integer or boolean arrays are valid indices",
     "output_type": "error",
     "traceback": [
      "\u001b[1;31m---------------------------------------------------------------------------\u001b[0m",
      "\u001b[1;31mIndexError\u001b[0m                                Traceback (most recent call last)",
      "\u001b[1;32m<ipython-input-5-b4130339d5f8>\u001b[0m in \u001b[0;36m<module>\u001b[1;34m\u001b[0m\n\u001b[0;32m      8\u001b[0m     \u001b[0mlist_of_edges\u001b[0m \u001b[1;33m=\u001b[0m \u001b[0mget_model_architecture\u001b[0m\u001b[1;33m(\u001b[0m\u001b[0mX_train\u001b[0m\u001b[1;33m)\u001b[0m\u001b[1;33m\u001b[0m\u001b[1;33m\u001b[0m\u001b[0m\n\u001b[0;32m      9\u001b[0m     \u001b[0mlist_of_edges\u001b[0m \u001b[1;33m=\u001b[0m \u001b[0mtuple\u001b[0m\u001b[1;33m(\u001b[0m\u001b[1;33m[\u001b[0m\u001b[0mtuple\u001b[0m\u001b[1;33m(\u001b[0m\u001b[0mi\u001b[0m\u001b[1;33m[\u001b[0m\u001b[1;36m1\u001b[0m\u001b[1;33m:\u001b[0m\u001b[1;33m]\u001b[0m\u001b[1;33m)\u001b[0m \u001b[1;32mfor\u001b[0m \u001b[0mi\u001b[0m \u001b[1;32min\u001b[0m \u001b[0mlist_of_edges\u001b[0m\u001b[1;33m]\u001b[0m\u001b[1;33m)\u001b[0m\u001b[1;33m\u001b[0m\u001b[1;33m\u001b[0m\u001b[0m\n\u001b[1;32m---> 10\u001b[1;33m     \u001b[0mmodel\u001b[0m \u001b[1;33m=\u001b[0m \u001b[0mMarkovNetwork\u001b[0m\u001b[1;33m.\u001b[0m\u001b[0mfrom_structure\u001b[0m\u001b[1;33m(\u001b[0m\u001b[0mX_train\u001b[0m\u001b[1;33m.\u001b[0m\u001b[0mvalues\u001b[0m\u001b[1;33m,\u001b[0m\u001b[0mlist_of_edges\u001b[0m\u001b[1;33m)\u001b[0m\u001b[1;33m\u001b[0m\u001b[1;33m\u001b[0m\u001b[0m\n\u001b[0m\u001b[0;32m     11\u001b[0m     \u001b[1;32mwith\u001b[0m \u001b[0mopen\u001b[0m\u001b[1;33m(\u001b[0m\u001b[1;34m'rejection_markov_'\u001b[0m\u001b[1;33m+\u001b[0m\u001b[0mfilename\u001b[0m\u001b[1;33m.\u001b[0m\u001b[0mlower\u001b[0m\u001b[1;33m(\u001b[0m\u001b[1;33m)\u001b[0m\u001b[1;33m+\u001b[0m\u001b[1;34m'_model.pkl'\u001b[0m\u001b[1;33m,\u001b[0m\u001b[1;34m'wb'\u001b[0m\u001b[1;33m)\u001b[0m \u001b[1;32mas\u001b[0m \u001b[0mf\u001b[0m\u001b[1;33m:\u001b[0m\u001b[1;33m\u001b[0m\u001b[1;33m\u001b[0m\u001b[0m\n\u001b[0;32m     12\u001b[0m         \u001b[0mpickle\u001b[0m\u001b[1;33m.\u001b[0m\u001b[0mdump\u001b[0m\u001b[1;33m(\u001b[0m\u001b[0mmodel\u001b[0m\u001b[1;33m,\u001b[0m\u001b[0mf\u001b[0m\u001b[1;33m,\u001b[0m\u001b[0mprotocol\u001b[0m\u001b[1;33m=\u001b[0m\u001b[1;36m4\u001b[0m\u001b[1;33m)\u001b[0m\u001b[1;33m\u001b[0m\u001b[1;33m\u001b[0m\u001b[0m\n",
      "\u001b[1;32mF:\\Anaconda\\Anaconda3\\envs\\deep\\lib\\site-packages\\pomegranate\\MarkovNetwork.pyx\u001b[0m in \u001b[0;36mpomegranate.MarkovNetwork.MarkovNetwork.from_structure\u001b[1;34m()\u001b[0m\n",
      "\u001b[1;31mIndexError\u001b[0m: only integers, slices (`:`), ellipsis (`...`), numpy.newaxis (`None`) and integer or boolean arrays are valid indices"
     ]
    }
   ],
   "source": [
    "for column in columns:\n",
    "    print(column)\n",
    "    filename = \"_\".join([w.lower() for w in column.split(\" \")])\n",
    "    sample_df = pd.read_csv('rejection_sampled_'+filename+'.csv')\n",
    "    feat_cols = sample_df.columns[sample_df.columns!='labels']\n",
    "    X_train,X_test,y_train,y_test = train_test_split(sample_df[feat_cols],sample_df['labels'],test_size = 0.3,random_state = 43)\n",
    "    X_train[column] = y_train\n",
    "    list_of_edges = get_model_architecture(X_train)\n",
    "    list_of_edges = tuple([tuple(i[1:]) for i in list_of_edges])\n",
    "    model = MarkovNetwork.from_structure(X_train.values,list_of_edges)\n",
    "    with open('rejection_markov_'+filename.lower()+'_model.pkl','wb') as f:\n",
    "        pickle.dump(model,f,protocol=4)"
   ]
  },
  {
   "cell_type": "code",
   "execution_count": null,
   "metadata": {},
   "outputs": [],
   "source": []
  }
 ],
 "metadata": {
  "kernelspec": {
   "display_name": "deep",
   "language": "python",
   "name": "deep"
  },
  "language_info": {
   "codemirror_mode": {
    "name": "ipython",
    "version": 3
   },
   "file_extension": ".py",
   "mimetype": "text/x-python",
   "name": "python",
   "nbconvert_exporter": "python",
   "pygments_lexer": "ipython3",
   "version": "3.6.10"
  }
 },
 "nbformat": 4,
 "nbformat_minor": 4
}
