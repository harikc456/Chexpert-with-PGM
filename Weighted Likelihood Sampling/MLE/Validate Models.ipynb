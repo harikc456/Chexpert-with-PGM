{
 "cells": [
  {
   "cell_type": "code",
   "execution_count": 1,
   "metadata": {},
   "outputs": [],
   "source": [
    "import pandas as pd\n",
    "import matplotlib.pyplot as plt\n",
    "import torch\n",
    "import time\n",
    "import torch.nn as nn\n",
    "from sklearn.mixture import GaussianMixture\n",
    "import numpy as np\n",
    "from sklearn.metrics import confusion_matrix, accuracy_score,f1_score\n",
    "import concurrent.futures\n",
    "from sklearn.model_selection import train_test_split\n",
    "from pgmpy.models import BayesianModel\n",
    "from pgmpy.estimators import HillClimbSearch, BicScore, K2Score\n",
    "from pgmpy.factors.discrete import TabularCPD\n",
    "from collections import Counter\n",
    "import pickle\n",
    "import logging"
   ]
  },
  {
   "cell_type": "markdown",
   "metadata": {},
   "source": [
    "## Validation "
   ]
  },
  {
   "cell_type": "code",
   "execution_count": 2,
   "metadata": {},
   "outputs": [],
   "source": [
    "logging.basicConfig(filename='validation.log',level=logging.DEBUG)"
   ]
  },
  {
   "cell_type": "code",
   "execution_count": 3,
   "metadata": {},
   "outputs": [],
   "source": [
    "columns = ['Pneumonia','Pleural Other','No Finding','Enlarged Cardiomediastinum', 'Cardiomegaly', 'Lung Opacity',\n",
    "       'Lung Lesion', 'Edema', 'Consolidation', 'Atelectasis',\n",
    "       'Pneumothorax', 'Pleural Effusion', 'Fracture','Support Devices']\n",
    "\n",
    "string_cols = ['Sex','Age']"
   ]
  },
  {
   "cell_type": "code",
   "execution_count": 4,
   "metadata": {},
   "outputs": [
    {
     "name": "stderr",
     "output_type": "stream",
     "text": [
      "100%|████████████████████████████████████████| 202/202 [01:42<00:00,  1.97it/s]\n",
      "100%|████████████████████████████████████████| 202/202 [01:20<00:00,  2.52it/s]\n",
      "100%|████████████████████████████████████████| 202/202 [02:47<00:00,  1.20it/s]\n",
      "100%|████████████████████████████████████████| 202/202 [00:58<00:00,  3.44it/s]\n",
      "100%|████████████████████████████████████████| 202/202 [02:41<00:00,  1.25it/s]\n",
      "100%|████████████████████████████████████████| 202/202 [03:26<00:00,  1.02s/it]\n",
      "100%|████████████████████████████████████████| 202/202 [01:33<00:00,  2.16it/s]\n",
      "100%|████████████████████████████████████████| 202/202 [03:16<00:00,  1.03it/s]\n",
      "100%|████████████████████████████████████████| 202/202 [01:09<00:00,  2.90it/s]\n",
      "100%|████████████████████████████████████████| 202/202 [02:55<00:00,  1.15it/s]\n",
      "100%|████████████████████████████████████████| 202/202 [01:50<00:00,  1.83it/s]\n",
      "100%|████████████████████████████████████████| 202/202 [03:23<00:00,  1.01s/it]\n",
      "100%|████████████████████████████████████████| 202/202 [01:25<00:00,  2.36it/s]\n",
      "100%|████████████████████████████████████████| 202/202 [03:41<00:00,  1.09s/it]\n"
     ]
    }
   ],
   "source": [
    "for column in columns:\n",
    "    logging.info(column)\n",
    "    val = pd.read_csv('valid_'+column+'.csv')\n",
    "    filename = \"_\".join([w for w in column.split(\" \")])\n",
    "    with open('sampled_bayes_'+filename.lower()+'model.pkl','rb') as f:\n",
    "        model = pickle.load(f)\n",
    "    feature_cols = val.columns[val.columns!=column]\n",
    "    pred = model.predict(val[feature_cols])\n",
    "    logging.info(\"Accuracy\"+str(accuracy_score(val[column],pred)))\n",
    "    logging.info(\"\\n\\n\")"
   ]
  },
  {
   "cell_type": "code",
   "execution_count": 34,
   "metadata": {},
   "outputs": [
    {
     "data": {
      "text/html": [
       "<div>\n",
       "<style scoped>\n",
       "    .dataframe tbody tr th:only-of-type {\n",
       "        vertical-align: middle;\n",
       "    }\n",
       "\n",
       "    .dataframe tbody tr th {\n",
       "        vertical-align: top;\n",
       "    }\n",
       "\n",
       "    .dataframe thead th {\n",
       "        text-align: right;\n",
       "    }\n",
       "</style>\n",
       "<table border=\"1\" class=\"dataframe\">\n",
       "  <thead>\n",
       "    <tr style=\"text-align: right;\">\n",
       "      <th></th>\n",
       "      <th>labels</th>\n",
       "      <th>Sex</th>\n",
       "      <th>X20</th>\n",
       "      <th>X30</th>\n",
       "      <th>X54</th>\n",
       "      <th>X63</th>\n",
       "      <th>X0</th>\n",
       "      <th>X35</th>\n",
       "      <th>X46</th>\n",
       "      <th>X43</th>\n",
       "      <th>...</th>\n",
       "      <th>X49</th>\n",
       "      <th>X15</th>\n",
       "      <th>X2</th>\n",
       "      <th>X51</th>\n",
       "      <th>X3</th>\n",
       "      <th>X23</th>\n",
       "      <th>X56</th>\n",
       "      <th>X7</th>\n",
       "      <th>X48</th>\n",
       "      <th>_weight</th>\n",
       "    </tr>\n",
       "  </thead>\n",
       "  <tbody>\n",
       "    <tr>\n",
       "      <th>0</th>\n",
       "      <td>0</td>\n",
       "      <td>1</td>\n",
       "      <td>0</td>\n",
       "      <td>0</td>\n",
       "      <td>0</td>\n",
       "      <td>1</td>\n",
       "      <td>0</td>\n",
       "      <td>1</td>\n",
       "      <td>0</td>\n",
       "      <td>0</td>\n",
       "      <td>...</td>\n",
       "      <td>1</td>\n",
       "      <td>1</td>\n",
       "      <td>0</td>\n",
       "      <td>1</td>\n",
       "      <td>1</td>\n",
       "      <td>0</td>\n",
       "      <td>1</td>\n",
       "      <td>0</td>\n",
       "      <td>1</td>\n",
       "      <td>0.949916</td>\n",
       "    </tr>\n",
       "    <tr>\n",
       "      <th>1</th>\n",
       "      <td>1</td>\n",
       "      <td>1</td>\n",
       "      <td>0</td>\n",
       "      <td>0</td>\n",
       "      <td>1</td>\n",
       "      <td>0</td>\n",
       "      <td>0</td>\n",
       "      <td>0</td>\n",
       "      <td>0</td>\n",
       "      <td>0</td>\n",
       "      <td>...</td>\n",
       "      <td>1</td>\n",
       "      <td>0</td>\n",
       "      <td>1</td>\n",
       "      <td>0</td>\n",
       "      <td>1</td>\n",
       "      <td>0</td>\n",
       "      <td>1</td>\n",
       "      <td>0</td>\n",
       "      <td>1</td>\n",
       "      <td>0.050084</td>\n",
       "    </tr>\n",
       "    <tr>\n",
       "      <th>2</th>\n",
       "      <td>0</td>\n",
       "      <td>1</td>\n",
       "      <td>0</td>\n",
       "      <td>1</td>\n",
       "      <td>1</td>\n",
       "      <td>1</td>\n",
       "      <td>0</td>\n",
       "      <td>0</td>\n",
       "      <td>0</td>\n",
       "      <td>1</td>\n",
       "      <td>...</td>\n",
       "      <td>1</td>\n",
       "      <td>0</td>\n",
       "      <td>0</td>\n",
       "      <td>1</td>\n",
       "      <td>1</td>\n",
       "      <td>0</td>\n",
       "      <td>1</td>\n",
       "      <td>0</td>\n",
       "      <td>1</td>\n",
       "      <td>0.949916</td>\n",
       "    </tr>\n",
       "    <tr>\n",
       "      <th>3</th>\n",
       "      <td>1</td>\n",
       "      <td>1</td>\n",
       "      <td>1</td>\n",
       "      <td>1</td>\n",
       "      <td>1</td>\n",
       "      <td>1</td>\n",
       "      <td>0</td>\n",
       "      <td>0</td>\n",
       "      <td>0</td>\n",
       "      <td>1</td>\n",
       "      <td>...</td>\n",
       "      <td>1</td>\n",
       "      <td>1</td>\n",
       "      <td>1</td>\n",
       "      <td>1</td>\n",
       "      <td>1</td>\n",
       "      <td>0</td>\n",
       "      <td>1</td>\n",
       "      <td>0</td>\n",
       "      <td>1</td>\n",
       "      <td>0.050084</td>\n",
       "    </tr>\n",
       "    <tr>\n",
       "      <th>4</th>\n",
       "      <td>1</td>\n",
       "      <td>1</td>\n",
       "      <td>1</td>\n",
       "      <td>0</td>\n",
       "      <td>0</td>\n",
       "      <td>0</td>\n",
       "      <td>0</td>\n",
       "      <td>1</td>\n",
       "      <td>0</td>\n",
       "      <td>0</td>\n",
       "      <td>...</td>\n",
       "      <td>1</td>\n",
       "      <td>0</td>\n",
       "      <td>1</td>\n",
       "      <td>1</td>\n",
       "      <td>1</td>\n",
       "      <td>0</td>\n",
       "      <td>1</td>\n",
       "      <td>0</td>\n",
       "      <td>0</td>\n",
       "      <td>0.050084</td>\n",
       "    </tr>\n",
       "  </tbody>\n",
       "</table>\n",
       "<p>5 rows × 68 columns</p>\n",
       "</div>"
      ],
      "text/plain": [
       "   labels  Sex  X20  X30  X54  X63  X0  X35  X46  X43  ...  X49  X15  X2  X51  \\\n",
       "0       0    1    0    0    0    1   0    1    0    0  ...    1    1   0    1   \n",
       "1       1    1    0    0    1    0   0    0    0    0  ...    1    0   1    0   \n",
       "2       0    1    0    1    1    1   0    0    0    1  ...    1    0   0    1   \n",
       "3       1    1    1    1    1    1   0    0    0    1  ...    1    1   1    1   \n",
       "4       1    1    1    0    0    0   0    1    0    0  ...    1    0   1    1   \n",
       "\n",
       "   X3  X23  X56  X7  X48   _weight  \n",
       "0   1    0    1   0    1  0.949916  \n",
       "1   1    0    1   0    1  0.050084  \n",
       "2   1    0    1   0    1  0.949916  \n",
       "3   1    0    1   0    1  0.050084  \n",
       "4   1    0    1   0    0  0.050084  \n",
       "\n",
       "[5 rows x 68 columns]"
      ]
     },
     "execution_count": 34,
     "metadata": {},
     "output_type": "execute_result"
    }
   ],
   "source": [
    "val = pd.read_csv('valid_Pneumonia.csv')\n",
    "df = pd.read_csv('weighted_pneumonia.csv')\n",
    "df.head()"
   ]
  },
  {
   "cell_type": "code",
   "execution_count": 35,
   "metadata": {},
   "outputs": [
    {
     "data": {
      "text/plain": [
       "({3, 4, 5, 6, 7, 8, 9, 10, 11, 12, 13, 14, 15, 16, 17, 18},\n",
       " {0, 1, 2, 3, 4, 5, 6, 7, 8, 9, 10, 11, 12, 13, 14, 15})"
      ]
     },
     "execution_count": 35,
     "metadata": {},
     "output_type": "execute_result"
    }
   ],
   "source": [
    "set(val['Age']), set(df['Age'])"
   ]
  },
  {
   "cell_type": "code",
   "execution_count": 9,
   "metadata": {},
   "outputs": [
    {
     "data": {
      "text/plain": [
       "NodeView(('Age', 'Sex', '29', '57', '11', '40', '18', '53', '43', '0', '63', '61', '37', '41', '59', '21', '49', '15', '27', '25', '50', '58', '52', '39', '42', '6', '23', '22', '36', '45', '24', '55', '19', '60', '44', '3', '1', '62', '33', '31', '16', '32', '35', '54', '30', '56', '34', '51', '12', '8', '46', '26', '38', '28', '20', '9', '14', '17', '13', '5', '47', '10', '7', '48', '4', '2', 'labels'))"
      ]
     },
     "execution_count": 9,
     "metadata": {},
     "output_type": "execute_result"
    }
   ],
   "source": [
    "model.nodes()"
   ]
  },
  {
   "cell_type": "code",
   "execution_count": null,
   "metadata": {},
   "outputs": [],
   "source": []
  }
 ],
 "metadata": {
  "kernelspec": {
   "display_name": "deep",
   "language": "python",
   "name": "deep"
  },
  "language_info": {
   "codemirror_mode": {
    "name": "ipython",
    "version": 3
   },
   "file_extension": ".py",
   "mimetype": "text/x-python",
   "name": "python",
   "nbconvert_exporter": "python",
   "pygments_lexer": "ipython3",
   "version": "3.6.10"
  }
 },
 "nbformat": 4,
 "nbformat_minor": 4
}
